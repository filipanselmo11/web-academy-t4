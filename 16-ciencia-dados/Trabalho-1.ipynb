{
 "cells": [
  {
   "cell_type": "markdown",
   "metadata": {},
   "source": [
    "Dataset 1"
   ]
  },
  {
   "cell_type": "markdown",
   "metadata": {},
   "source": [
    "Lendo o dataset"
   ]
  },
  {
   "cell_type": "code",
   "execution_count": 1,
   "metadata": {},
   "outputs": [],
   "source": [
    "import pandas as pd\n",
    "import matplotlib.pyplot as plt"
   ]
  },
  {
   "cell_type": "code",
   "execution_count": 3,
   "metadata": {},
   "outputs": [
    {
     "name": "stdout",
     "output_type": "stream",
     "text": [
      "oi\n"
     ]
    }
   ],
   "source": [
    "print('oi')"
   ]
  },
  {
   "cell_type": "markdown",
   "metadata": {},
   "source": [
    "Quais gêneros tem mais jogos ?"
   ]
  },
  {
   "cell_type": "code",
   "execution_count": 3,
   "metadata": {},
   "outputs": [
    {
     "data": {
      "text/plain": [
       "Genre\n",
       "Action          3370\n",
       "Sports          2348\n",
       "Misc            1750\n",
       "Role-Playing    1500\n",
       "Shooter         1323\n",
       "Adventure       1303\n",
       "Racing          1249\n",
       "Platform         888\n",
       "Simulation       874\n",
       "Fighting         849\n",
       "Strategy         683\n",
       "Puzzle           580\n",
       "Name: count, dtype: int64"
      ]
     },
     "execution_count": 3,
     "metadata": {},
     "output_type": "execute_result"
    }
   ],
   "source": [
    "vg['Genre'].value_counts()"
   ]
  },
  {
   "cell_type": "markdown",
   "metadata": {},
   "source": [
    "Quais anos tiveram mais lançamentos ?"
   ]
  },
  {
   "cell_type": "code",
   "execution_count": 4,
   "metadata": {},
   "outputs": [
    {
     "data": {
      "text/plain": [
       "Year_of_Release\n",
       "2008.0    1427\n",
       "2009.0    1426\n",
       "2010.0    1255\n",
       "2007.0    1197\n",
       "2011.0    1136\n",
       "2006.0    1006\n",
       "2005.0     939\n",
       "2002.0     829\n",
       "2003.0     775\n",
       "2004.0     762\n",
       "2012.0     653\n",
       "2015.0     606\n",
       "2014.0     581\n",
       "2013.0     544\n",
       "2016.0     502\n",
       "2001.0     482\n",
       "1998.0     379\n",
       "2000.0     350\n",
       "1999.0     338\n",
       "1997.0     289\n",
       "1996.0     263\n",
       "1995.0     219\n",
       "1994.0     121\n",
       "1993.0      62\n",
       "1981.0      46\n",
       "1992.0      43\n",
       "1991.0      41\n",
       "1982.0      36\n",
       "1986.0      21\n",
       "1989.0      17\n",
       "1983.0      17\n",
       "1987.0      16\n",
       "1990.0      16\n",
       "1988.0      15\n",
       "1985.0      14\n",
       "1984.0      14\n",
       "1980.0       9\n",
       "2017.0       3\n",
       "2020.0       1\n",
       "Name: count, dtype: int64"
      ]
     },
     "execution_count": 4,
     "metadata": {},
     "output_type": "execute_result"
    }
   ],
   "source": [
    "vg['Year_of_Release'].value_counts()"
   ]
  },
  {
   "cell_type": "markdown",
   "metadata": {},
   "source": [
    "Os cinco anos com mais lançamentos, com estes lançamentos divididos por gênero"
   ]
  },
  {
   "cell_type": "code",
   "execution_count": 5,
   "metadata": {},
   "outputs": [],
   "source": [
    "cincoAnos = vg['Year_of_Release'].value_counts().head(5)\n",
    "vg_cincoAnos = vg[vg['Year_of_Release'].isin(cincoAnos.index)]"
   ]
  },
  {
   "cell_type": "code",
   "execution_count": 6,
   "metadata": {},
   "outputs": [
    {
     "name": "stdout",
     "output_type": "stream",
     "text": [
      "    Year_of_Release         Genre  Count\n",
      "0            2007.0        Action    210\n",
      "1            2007.0     Adventure     83\n",
      "2            2007.0      Fighting     50\n",
      "3            2007.0          Misc    151\n",
      "4            2007.0      Platform     42\n",
      "5            2007.0        Puzzle     66\n",
      "6            2007.0        Racing     84\n",
      "7            2007.0  Role-Playing    103\n",
      "8            2007.0       Shooter     85\n",
      "9            2007.0    Simulation     90\n",
      "10           2007.0        Sports    166\n",
      "11           2007.0      Strategy     67\n",
      "12           2008.0        Action    221\n",
      "13           2008.0     Adventure    166\n",
      "14           2008.0      Fighting     56\n",
      "15           2008.0          Misc    212\n",
      "16           2008.0      Platform     62\n",
      "17           2008.0        Puzzle     64\n",
      "18           2008.0        Racing     82\n",
      "19           2008.0  Role-Playing    112\n",
      "20           2008.0       Shooter     83\n",
      "21           2008.0    Simulation    119\n",
      "22           2008.0        Sports    200\n",
      "23           2008.0      Strategy     50\n",
      "24           2009.0        Action    272\n",
      "25           2009.0     Adventure    140\n",
      "26           2009.0      Fighting     53\n",
      "27           2009.0          Misc    206\n",
      "28           2009.0      Platform     29\n",
      "29           2009.0        Puzzle     79\n",
      "30           2009.0        Racing     84\n",
      "31           2009.0  Role-Playing    103\n",
      "32           2009.0       Shooter     90\n",
      "33           2009.0    Simulation    123\n",
      "34           2009.0        Sports    183\n",
      "35           2009.0      Strategy     64\n",
      "36           2010.0        Action    226\n",
      "37           2010.0     Adventure    153\n",
      "38           2010.0      Fighting     40\n",
      "39           2010.0          Misc    201\n",
      "40           2010.0      Platform     31\n",
      "41           2010.0        Puzzle     43\n",
      "42           2010.0        Racing     57\n",
      "43           2010.0  Role-Playing    103\n",
      "44           2010.0       Shooter     81\n",
      "45           2010.0    Simulation     81\n",
      "46           2010.0        Sports    186\n",
      "47           2010.0      Strategy     53\n",
      "48           2011.0        Action    238\n",
      "49           2011.0     Adventure    108\n",
      "50           2011.0      Fighting     50\n",
      "51           2011.0          Misc    183\n",
      "52           2011.0      Platform     37\n",
      "53           2011.0        Puzzle     43\n",
      "54           2011.0        Racing     65\n",
      "55           2011.0  Role-Playing     95\n",
      "56           2011.0       Shooter     94\n",
      "57           2011.0    Simulation     56\n",
      "58           2011.0        Sports    121\n",
      "59           2011.0      Strategy     46\n"
     ]
    }
   ],
   "source": [
    "genero_cinco_ano = vg_cincoAnos.groupby(['Year_of_Release', 'Genre']).size()\n",
    "genero_cinco_ano_df = genero_cinco_ano.reset_index(name='Count')\n",
    "print(genero_cinco_ano_df)"
   ]
  },
  {
   "cell_type": "markdown",
   "metadata": {},
   "source": [
    "Faça um gráfico por total de vendas globais"
   ]
  },
  {
   "cell_type": "code",
   "execution_count": 7,
   "metadata": {},
   "outputs": [
    {
     "name": "stdout",
     "output_type": "stream",
     "text": [
      "16719\n"
     ]
    }
   ],
   "source": [
    "global_sales = vg['Global_Sales'].value_counts()\n",
    "total_global_sales = global_sales.sum()\n",
    "print(total_global_sales)\n",
    "# sum_total_global_sales = total_global_sales.sum()\n",
    "# print(sum_total_global_sales)"
   ]
  },
  {
   "cell_type": "code",
   "execution_count": 8,
   "metadata": {},
   "outputs": [
    {
     "data": {
      "image/png": "[encoded data removed]",
      "text/plain": [
       "<Figure size 640x480 with 1 Axes>"
      ]
     },
     "metadata": {},
     "output_type": "display_data"
    }
   ],
   "source": [
    "plt.bar(['Total Global Sales'], [total_global_sales], color='skyblue')\n",
    "plt.title('Sum Total Global Sales', fontsize=16)\n",
    "plt.ylabel('Frequencie', fontsize=14)\n",
    "plt.show()"
   ]
  },
  {
   "cell_type": "markdown",
   "metadata": {},
   "source": [
    "Para cada ano, qual o gênero com mais lançamentos daquele ano"
   ]
  },
  {
   "cell_type": "code",
   "execution_count": 9,
   "metadata": {},
   "outputs": [
    {
     "name": "stdout",
     "output_type": "stream",
     "text": [
      "     Year_of_Release         Genre  Launch_Count\n",
      "2             1980.0          Misc             4\n",
      "5             1981.0        Action            25\n",
      "12            1982.0        Action            18\n",
      "19            1983.0        Action             7\n",
      "29            1984.0        Puzzle             3\n",
      "35            1985.0      Platform             4\n",
      "40            1986.0        Action             6\n",
      "52            1987.0        Sports             4\n",
      "54            1988.0      Platform             4\n",
      "64            1989.0        Puzzle             5\n",
      "68            1990.0        Action             3\n",
      "85            1991.0        Sports             7\n",
      "89            1992.0      Fighting             7\n",
      "101           1993.0      Fighting            11\n",
      "113           1994.0      Fighting            22\n",
      "125           1995.0      Fighting            29\n",
      "145           1996.0        Sports            52\n",
      "157           1997.0        Sports            46\n",
      "169           1998.0        Sports            70\n",
      "181           1999.0        Sports            62\n",
      "193           2000.0        Sports            81\n",
      "205           2001.0        Sports            96\n",
      "217           2002.0        Sports           188\n",
      "219           2003.0        Action           144\n",
      "231           2004.0        Action           125\n",
      "243           2005.0        Action           192\n",
      "255           2006.0        Action           184\n",
      "267           2007.0        Action           210\n",
      "279           2008.0        Action           221\n",
      "291           2009.0        Action           272\n",
      "303           2010.0        Action           226\n",
      "315           2011.0        Action           238\n",
      "327           2012.0        Action           265\n",
      "339           2013.0        Action           147\n",
      "351           2014.0        Action           188\n",
      "363           2015.0        Action           253\n",
      "375           2016.0        Action           178\n",
      "388           2017.0  Role-Playing             2\n",
      "389           2020.0    Simulation             1\n"
     ]
    }
   ],
   "source": [
    "genero_grupo_lancamento = vg.groupby(['Year_of_Release', 'Genre']).size().reset_index(name='Launch_Count')\n",
    "genero_mais_lancado = genero_grupo_lancamento.loc[genero_grupo_lancamento.groupby('Year_of_Release')['Launch_Count'].idxmax()]\n",
    "print(genero_mais_lancado)"
   ]
  },
  {
   "cell_type": "markdown",
   "metadata": {},
   "source": [
    "Para cada ano, qual foi o gênero mais vendido daquele ano"
   ]
  },
  {
   "cell_type": "code",
   "execution_count": 10,
   "metadata": {},
   "outputs": [
    {
     "name": "stdout",
     "output_type": "stream",
     "text": [
      "     Year_of_Release         Genre  Global_Sales\n",
      "3             1980.0       Shooter          7.07\n",
      "5             1981.0        Action         14.84\n",
      "15            1982.0        Puzzle         10.03\n",
      "22            1983.0      Platform          6.93\n",
      "31            1984.0       Shooter         31.10\n",
      "35            1985.0      Platform         43.17\n",
      "40            1986.0        Action         13.74\n",
      "48            1987.0      Fighting          5.42\n",
      "54            1988.0      Platform         27.73\n",
      "64            1989.0        Puzzle         37.75\n",
      "69            1990.0      Platform         22.97\n",
      "79            1991.0      Platform          7.64\n",
      "89            1992.0      Fighting         15.25\n",
      "103           1993.0      Platform         18.67\n",
      "115           1994.0      Platform         28.74\n",
      "127           1995.0      Platform         16.69\n",
      "142           1996.0  Role-Playing         43.96\n",
      "153           1997.0        Racing         31.91\n",
      "169           1998.0        Sports         41.79\n",
      "178           1999.0  Role-Playing         49.09\n",
      "193           2000.0        Sports         41.19\n",
      "195           2001.0        Action         59.39\n",
      "207           2002.0        Action         86.76\n",
      "219           2003.0        Action         67.93\n",
      "231           2004.0        Action         76.25\n",
      "243           2005.0        Action         85.53\n",
      "265           2006.0        Sports        135.83\n",
      "267           2007.0        Action        104.97\n",
      "279           2008.0        Action        135.01\n",
      "291           2009.0        Action        137.66\n",
      "303           2010.0        Action        115.49\n",
      "315           2011.0        Action        116.76\n",
      "327           2012.0        Action        119.10\n",
      "339           2013.0        Action        122.57\n",
      "351           2014.0        Action         97.30\n",
      "363           2015.0        Action         72.04\n",
      "383           2016.0       Shooter         38.23\n",
      "388           2017.0  Role-Playing          0.05\n",
      "389           2020.0    Simulation          0.29\n"
     ]
    }
   ],
   "source": [
    "genero_grupo_vendas = vg.groupby(['Year_of_Release', 'Genre'])['Global_Sales'].sum().reset_index()\n",
    "genero_mais_vendido = genero_grupo_vendas.loc[genero_grupo_vendas.groupby('Year_of_Release')['Global_Sales'].idxmax()]\n",
    "print(genero_mais_vendido)"
   ]
  },
  {
   "cell_type": "markdown",
   "metadata": {},
   "source": [
    "Um gráfico contendo para cada plataforma, o número de vendas da mesma."
   ]
  },
  {
   "cell_type": "code",
   "execution_count": 11,
   "metadata": {},
   "outputs": [
    {
     "data": {
      "image/png": "[encoded data removed]",
      "text/plain": [
       "<Figure size 1200x600 with 1 Axes>"
      ]
     },
     "metadata": {},
     "output_type": "display_data"
    }
   ],
   "source": [
    "vendas_por_plataforma = vg.groupby('Platform')['Global_Sales'].sum().sort_values(ascending=False)\n",
    "\n",
    "plt.figure(figsize=(12, 6))\n",
    "vendas_por_plataforma.plot(kind='bar', color='skyblue')\n",
    "\n",
    "plt.title('Vendas Globais por plataforma', fontsize=16)\n",
    "plt.xlabel('Platform', fontsize=12)\n",
    "plt.ylabel('Global Sales', fontsize=12)\n",
    "\n",
    "plt.xticks(rotation=45)\n",
    "plt.tight_layout()\n",
    "plt.show()"
   ]
  },
  {
   "cell_type": "markdown",
   "metadata": {},
   "source": [
    "Faça uma tabela comparando, para cada gênero, as vendas globais, na américa do norte, europa e japão."
   ]
  },
  {
   "cell_type": "code",
   "execution_count": 12,
   "metadata": {},
   "outputs": [
    {
     "data": {
      "text/html": [
       "<div>\n",
       "<style scoped>\n",
       "    .dataframe tbody tr th:only-of-type {\n",
       "        vertical-align: middle;\n",
       "    }\n",
       "\n",
       "    .dataframe tbody tr th {\n",
       "        vertical-align: top;\n",
       "    }\n",
       "\n",
       "    .dataframe thead th {\n",
       "        text-align: right;\n",
       "    }\n",
       "</style>\n",
       "<table border=\"1\" class=\"dataframe\">\n",
       "  <thead>\n",
       "    <tr style=\"text-align: right;\">\n",
       "      <th></th>\n",
       "      <th>Genre</th>\n",
       "      <th>Global_Sales</th>\n",
       "      <th>NA_Sales</th>\n",
       "      <th>EU_Sales</th>\n",
       "      <th>JP_Sales</th>\n",
       "    </tr>\n",
       "  </thead>\n",
       "  <tbody>\n",
       "    <tr>\n",
       "      <th>0</th>\n",
       "      <td>Action</td>\n",
       "      <td>1745.27</td>\n",
       "      <td>879.01</td>\n",
       "      <td>519.13</td>\n",
       "      <td>161.44</td>\n",
       "    </tr>\n",
       "    <tr>\n",
       "      <th>1</th>\n",
       "      <td>Adventure</td>\n",
       "      <td>237.69</td>\n",
       "      <td>105.26</td>\n",
       "      <td>63.54</td>\n",
       "      <td>52.30</td>\n",
       "    </tr>\n",
       "    <tr>\n",
       "      <th>2</th>\n",
       "      <td>Fighting</td>\n",
       "      <td>447.48</td>\n",
       "      <td>223.36</td>\n",
       "      <td>100.33</td>\n",
       "      <td>87.48</td>\n",
       "    </tr>\n",
       "    <tr>\n",
       "      <th>3</th>\n",
       "      <td>Misc</td>\n",
       "      <td>803.18</td>\n",
       "      <td>407.27</td>\n",
       "      <td>212.74</td>\n",
       "      <td>108.11</td>\n",
       "    </tr>\n",
       "    <tr>\n",
       "      <th>4</th>\n",
       "      <td>Platform</td>\n",
       "      <td>828.08</td>\n",
       "      <td>445.50</td>\n",
       "      <td>200.35</td>\n",
       "      <td>130.83</td>\n",
       "    </tr>\n",
       "    <tr>\n",
       "      <th>5</th>\n",
       "      <td>Puzzle</td>\n",
       "      <td>243.02</td>\n",
       "      <td>122.87</td>\n",
       "      <td>50.01</td>\n",
       "      <td>57.31</td>\n",
       "    </tr>\n",
       "    <tr>\n",
       "      <th>6</th>\n",
       "      <td>Racing</td>\n",
       "      <td>728.90</td>\n",
       "      <td>359.35</td>\n",
       "      <td>236.51</td>\n",
       "      <td>56.71</td>\n",
       "    </tr>\n",
       "    <tr>\n",
       "      <th>7</th>\n",
       "      <td>Role-Playing</td>\n",
       "      <td>934.40</td>\n",
       "      <td>330.81</td>\n",
       "      <td>188.71</td>\n",
       "      <td>355.46</td>\n",
       "    </tr>\n",
       "    <tr>\n",
       "      <th>8</th>\n",
       "      <td>Shooter</td>\n",
       "      <td>1052.94</td>\n",
       "      <td>592.24</td>\n",
       "      <td>317.34</td>\n",
       "      <td>38.76</td>\n",
       "    </tr>\n",
       "    <tr>\n",
       "      <th>9</th>\n",
       "      <td>Simulation</td>\n",
       "      <td>390.42</td>\n",
       "      <td>182.19</td>\n",
       "      <td>113.52</td>\n",
       "      <td>63.80</td>\n",
       "    </tr>\n",
       "    <tr>\n",
       "      <th>10</th>\n",
       "      <td>Sports</td>\n",
       "      <td>1332.00</td>\n",
       "      <td>684.43</td>\n",
       "      <td>376.79</td>\n",
       "      <td>135.54</td>\n",
       "    </tr>\n",
       "    <tr>\n",
       "      <th>11</th>\n",
       "      <td>Strategy</td>\n",
       "      <td>174.50</td>\n",
       "      <td>68.55</td>\n",
       "      <td>45.17</td>\n",
       "      <td>49.66</td>\n",
       "    </tr>\n",
       "  </tbody>\n",
       "</table>\n",
       "</div>"
      ],
      "text/plain": [
       "           Genre  Global_Sales  NA_Sales  EU_Sales  JP_Sales\n",
       "0         Action       1745.27    879.01    519.13    161.44\n",
       "1      Adventure        237.69    105.26     63.54     52.30\n",
       "2       Fighting        447.48    223.36    100.33     87.48\n",
       "3           Misc        803.18    407.27    212.74    108.11\n",
       "4       Platform        828.08    445.50    200.35    130.83\n",
       "5         Puzzle        243.02    122.87     50.01     57.31\n",
       "6         Racing        728.90    359.35    236.51     56.71\n",
       "7   Role-Playing        934.40    330.81    188.71    355.46\n",
       "8        Shooter       1052.94    592.24    317.34     38.76\n",
       "9     Simulation        390.42    182.19    113.52     63.80\n",
       "10        Sports       1332.00    684.43    376.79    135.54\n",
       "11      Strategy        174.50     68.55     45.17     49.66"
      ]
     },
     "execution_count": 12,
     "metadata": {},
     "output_type": "execute_result"
    }
   ],
   "source": [
    "vendas_globais_por_genero = vg[['Genre', 'Global_Sales', 'NA_Sales', 'EU_Sales', 'JP_Sales']]\n",
    "\n",
    "vendas_globais_por_genero = vendas_globais_por_genero.groupby('Genre').sum().reset_index()\n",
    "\n",
    "vendas_globais_por_genero.to_csv('vendas_globais_por_genero.csv', index=False)\n",
    "\n",
    "vendasDf = pd.read_csv('vendas_globais_por_genero.csv')\n",
    "vendasDf"
   ]
  },
  {
   "cell_type": "markdown",
   "metadata": {},
   "source": [
    "Faça um gráfico de vendas por publisher"
   ]
  },
  {
   "cell_type": "code",
   "execution_count": 13,
   "metadata": {},
   "outputs": [
    {
     "data": {
      "image/png": "[encoded data removed]",
      "text/plain": [
       "<Figure size 1200x600 with 1 Axes>"
      ]
     },
     "metadata": {},
     "output_type": "display_data"
    }
   ],
   "source": [
    "vendas_publisher = vg[['Publisher', 'Global_Sales']]\n",
    "\n",
    "vendas_publisher = vendas_publisher.groupby('Publisher').sum().reset_index()\n",
    "\n",
    "vendas_publisher = vendas_publisher.sort_values(by='Global_Sales', ascending=False)\n",
    "\n",
    "plt.figure(figsize=(12, 6))\n",
    "plt.hist(vendas_publisher['Global_Sales'], bins=20, color='skyblue', edgecolor='black')\n",
    "plt.title('Vendas por Publisher', fontsize=16)\n",
    "plt.xlabel('Publisher', fontsize=12)\n",
    "plt.ylabel('Global Sales', fontsize=12)\n",
    "plt.xticks(rotation=45, ha='right')\n",
    "plt.tight_layout()\n",
    "\n",
    "plt.show()"
   ]
  },
  {
   "cell_type": "markdown",
   "metadata": {},
   "source": [
    "Faça uma tabela onde, para cada ano é listada a publisher com mais vendas globais naquele ano"
   ]
  },
  {
   "cell_type": "code",
   "execution_count": 14,
   "metadata": {},
   "outputs": [
    {
     "name": "stdout",
     "output_type": "stream",
     "text": [
      "      Year_of_Release                    Publisher  Global_Sales\n",
      "1              1980.0                        Atari          8.36\n",
      "3              1981.0                   Activision          8.50\n",
      "19             1982.0                        Atari         19.43\n",
      "36             1983.0                     Nintendo         10.96\n",
      "41             1984.0                     Nintendo         45.56\n",
      "47             1985.0                     Nintendo         49.95\n",
      "53             1986.0                     Nintendo         16.18\n",
      "60             1987.0                     Nintendo         11.95\n",
      "67             1988.0                     Nintendo         36.44\n",
      "75             1989.0                     Nintendo         63.88\n",
      "82             1990.0                     Nintendo         35.49\n",
      "97             1991.0                     Nintendo         15.97\n",
      "114            1992.0                     Nintendo         38.11\n",
      "138            1993.0                     Nintendo         20.04\n",
      "180            1994.0                     Nintendo         24.99\n",
      "245            1995.0  Sony Computer Entertainment         18.45\n",
      "320            1996.0                     Nintendo         73.70\n",
      "397            1997.0  Sony Computer Entertainment         43.90\n",
      "478            1998.0                     Nintendo         48.41\n",
      "561            1999.0                     Nintendo         65.33\n",
      "627            2000.0                     Nintendo         34.05\n",
      "701            2001.0                     Nintendo         45.37\n",
      "759            2002.0              Electronic Arts         73.01\n",
      "853            2003.0              Electronic Arts         69.82\n",
      "935            2004.0              Electronic Arts         67.28\n",
      "1042           2005.0                     Nintendo        126.69\n",
      "1146           2006.0                     Nintendo        204.42\n",
      "1272           2007.0                     Nintendo        103.09\n",
      "1436           2008.0                     Nintendo         90.01\n",
      "1588           2009.0                     Nintendo        127.39\n",
      "1696           2010.0              Electronic Arts         80.26\n",
      "1830           2011.0              Electronic Arts         71.51\n",
      "1982           2012.0                     Nintendo         56.11\n",
      "2059           2013.0                     Nintendo         53.48\n",
      "2133           2014.0                     Nintendo         48.88\n",
      "2184           2015.0              Electronic Arts         45.74\n",
      "2273           2016.0              Electronic Arts         26.48\n",
      "2336           2017.0                         Sega          0.05\n",
      "2337           2020.0                      Ubisoft          0.29\n"
     ]
    }
   ],
   "source": [
    "vendas_por_ano_publisher = vg[['Year_of_Release', 'Publisher', 'Global_Sales']]\n",
    "\n",
    "vendas_por_ano_publisher = vendas_por_ano_publisher.groupby(['Year_of_Release', 'Publisher']).sum().reset_index()\n",
    "\n",
    "publisher_lider = vendas_por_ano_publisher.loc[vendas_por_ano_publisher.groupby('Year_of_Release')['Global_Sales'].idxmax()]\n",
    "\n",
    "print(publisher_lider)\n"
   ]
  },
  {
   "cell_type": "markdown",
   "metadata": {},
   "source": [
    "Dataset 2"
   ]
  },
  {
   "cell_type": "code",
   "execution_count": 15,
   "metadata": {},
   "outputs": [
    {
     "data": {
      "text/html": [
       "<div>\n",
       "<style scoped>\n",
       "    .dataframe tbody tr th:only-of-type {\n",
       "        vertical-align: middle;\n",
       "    }\n",
       "\n",
       "    .dataframe tbody tr th {\n",
       "        vertical-align: top;\n",
       "    }\n",
       "\n",
       "    .dataframe thead th {\n",
       "        text-align: right;\n",
       "    }\n",
       "</style>\n",
       "<table border=\"1\" class=\"dataframe\">\n",
       "  <thead>\n",
       "    <tr style=\"text-align: right;\">\n",
       "      <th></th>\n",
       "      <th>Index</th>\n",
       "      <th>Title</th>\n",
       "      <th>Director (1)</th>\n",
       "      <th>Director (2)</th>\n",
       "      <th>Release Date (DD-MM-YYYY)</th>\n",
       "      <th>IMDb (scored out of 10)</th>\n",
       "      <th>IMDB Metascore (scored out of 100)</th>\n",
       "      <th>Rotten Tomatoes - Critics (scored out of 100%)</th>\n",
       "      <th>Rotten Tomatoes - Audience (scored out of 100%)</th>\n",
       "      <th>Letterboxd (scored out of 5)</th>\n",
       "      <th>CinemaScore (grades A+ to F)</th>\n",
       "      <th>Budget (in million $)</th>\n",
       "      <th>Domestic Gross (in million $)</th>\n",
       "      <th>Worldwide Gross (in million $)</th>\n",
       "    </tr>\n",
       "  </thead>\n",
       "  <tbody>\n",
       "    <tr>\n",
       "      <th>0</th>\n",
       "      <td>0</td>\n",
       "      <td>Iron Man</td>\n",
       "      <td>Jon Favreau</td>\n",
       "      <td>NaN</td>\n",
       "      <td>2008-05-02 00:00:00</td>\n",
       "      <td>7.9</td>\n",
       "      <td>79</td>\n",
       "      <td>94</td>\n",
       "      <td>91</td>\n",
       "      <td>3.7</td>\n",
       "      <td>A</td>\n",
       "      <td>140.0</td>\n",
       "      <td>319.0</td>\n",
       "      <td>585.8</td>\n",
       "    </tr>\n",
       "    <tr>\n",
       "      <th>1</th>\n",
       "      <td>1</td>\n",
       "      <td>The Incredible Hulk</td>\n",
       "      <td>Louis Leterrier</td>\n",
       "      <td>NaN</td>\n",
       "      <td>2008-06-13 00:00:00</td>\n",
       "      <td>6.6</td>\n",
       "      <td>61</td>\n",
       "      <td>68</td>\n",
       "      <td>69</td>\n",
       "      <td>2.5</td>\n",
       "      <td>A-</td>\n",
       "      <td>150.0</td>\n",
       "      <td>134.8</td>\n",
       "      <td>265.5</td>\n",
       "    </tr>\n",
       "    <tr>\n",
       "      <th>2</th>\n",
       "      <td>2</td>\n",
       "      <td>Iron Man 2</td>\n",
       "      <td>Jon Favreau</td>\n",
       "      <td>NaN</td>\n",
       "      <td>2010-05-07 00:00:00</td>\n",
       "      <td>6.9</td>\n",
       "      <td>57</td>\n",
       "      <td>72</td>\n",
       "      <td>71</td>\n",
       "      <td>2.9</td>\n",
       "      <td>A</td>\n",
       "      <td>200.0</td>\n",
       "      <td>312.4</td>\n",
       "      <td>623.9</td>\n",
       "    </tr>\n",
       "    <tr>\n",
       "      <th>3</th>\n",
       "      <td>3</td>\n",
       "      <td>Thor</td>\n",
       "      <td>Kenneth Branagh</td>\n",
       "      <td>NaN</td>\n",
       "      <td>2011-05-06 00:00:00</td>\n",
       "      <td>7.0</td>\n",
       "      <td>57</td>\n",
       "      <td>77</td>\n",
       "      <td>76</td>\n",
       "      <td>2.8</td>\n",
       "      <td>B+</td>\n",
       "      <td>150.0</td>\n",
       "      <td>181.0</td>\n",
       "      <td>449.3</td>\n",
       "    </tr>\n",
       "    <tr>\n",
       "      <th>4</th>\n",
       "      <td>4</td>\n",
       "      <td>Captain America: The First Avenger</td>\n",
       "      <td>Joe Johnston</td>\n",
       "      <td>NaN</td>\n",
       "      <td>2011-07-22 00:00:00</td>\n",
       "      <td>6.9</td>\n",
       "      <td>66</td>\n",
       "      <td>80</td>\n",
       "      <td>75</td>\n",
       "      <td>3.3</td>\n",
       "      <td>A-</td>\n",
       "      <td>215.0</td>\n",
       "      <td>176.7</td>\n",
       "      <td>370.6</td>\n",
       "    </tr>\n",
       "    <tr>\n",
       "      <th>5</th>\n",
       "      <td>5</td>\n",
       "      <td>The Avengers</td>\n",
       "      <td>Joss Whedon</td>\n",
       "      <td>NaN</td>\n",
       "      <td>2012-05-04 00:00:00</td>\n",
       "      <td>8.0</td>\n",
       "      <td>69</td>\n",
       "      <td>91</td>\n",
       "      <td>91</td>\n",
       "      <td>3.7</td>\n",
       "      <td>A+</td>\n",
       "      <td>225.0</td>\n",
       "      <td>623.4</td>\n",
       "      <td>1521.0</td>\n",
       "    </tr>\n",
       "    <tr>\n",
       "      <th>6</th>\n",
       "      <td>6</td>\n",
       "      <td>Iron Man 3</td>\n",
       "      <td>Shane Black</td>\n",
       "      <td>NaN</td>\n",
       "      <td>2013-05-03 00:00:00</td>\n",
       "      <td>7.1</td>\n",
       "      <td>62</td>\n",
       "      <td>79</td>\n",
       "      <td>78</td>\n",
       "      <td>3.0</td>\n",
       "      <td>A</td>\n",
       "      <td>200.0</td>\n",
       "      <td>409.0</td>\n",
       "      <td>1215.0</td>\n",
       "    </tr>\n",
       "    <tr>\n",
       "      <th>7</th>\n",
       "      <td>7</td>\n",
       "      <td>Thor: The Dark World</td>\n",
       "      <td>Alan Taylor</td>\n",
       "      <td>NaN</td>\n",
       "      <td>2013-11-08 00:00:00</td>\n",
       "      <td>6.7</td>\n",
       "      <td>54</td>\n",
       "      <td>67</td>\n",
       "      <td>75</td>\n",
       "      <td>2.2</td>\n",
       "      <td>A-</td>\n",
       "      <td>272.0</td>\n",
       "      <td>206.4</td>\n",
       "      <td>644.8</td>\n",
       "    </tr>\n",
       "    <tr>\n",
       "      <th>8</th>\n",
       "      <td>8</td>\n",
       "      <td>Captain America: The Winter Soldier</td>\n",
       "      <td>Anthony Russo</td>\n",
       "      <td>Joe Russo</td>\n",
       "      <td>2014-04-04 00:00:00</td>\n",
       "      <td>7.7</td>\n",
       "      <td>70</td>\n",
       "      <td>90</td>\n",
       "      <td>92</td>\n",
       "      <td>3.7</td>\n",
       "      <td>A</td>\n",
       "      <td>177.0</td>\n",
       "      <td>259.8</td>\n",
       "      <td>714.4</td>\n",
       "    </tr>\n",
       "    <tr>\n",
       "      <th>9</th>\n",
       "      <td>9</td>\n",
       "      <td>Guardians of the Galaxy</td>\n",
       "      <td>James Gunn</td>\n",
       "      <td>NaN</td>\n",
       "      <td>2014-08-01 00:00:00</td>\n",
       "      <td>8.0</td>\n",
       "      <td>76</td>\n",
       "      <td>92</td>\n",
       "      <td>92</td>\n",
       "      <td>3.8</td>\n",
       "      <td>A</td>\n",
       "      <td>196.0</td>\n",
       "      <td>333.7</td>\n",
       "      <td>773.4</td>\n",
       "    </tr>\n",
       "    <tr>\n",
       "      <th>10</th>\n",
       "      <td>10</td>\n",
       "      <td>Avengers: Age of Ultron</td>\n",
       "      <td>Joss Whedon</td>\n",
       "      <td>NaN</td>\n",
       "      <td>2015-05-01 00:00:00</td>\n",
       "      <td>7.3</td>\n",
       "      <td>66</td>\n",
       "      <td>76</td>\n",
       "      <td>82</td>\n",
       "      <td>3.1</td>\n",
       "      <td>A</td>\n",
       "      <td>365.0</td>\n",
       "      <td>459.0</td>\n",
       "      <td>1405.0</td>\n",
       "    </tr>\n",
       "    <tr>\n",
       "      <th>11</th>\n",
       "      <td>11</td>\n",
       "      <td>Ant-Man</td>\n",
       "      <td>Peyton Reed</td>\n",
       "      <td>NaN</td>\n",
       "      <td>2015-07-17 00:00:00</td>\n",
       "      <td>7.2</td>\n",
       "      <td>64</td>\n",
       "      <td>83</td>\n",
       "      <td>85</td>\n",
       "      <td>3.2</td>\n",
       "      <td>A</td>\n",
       "      <td>169.0</td>\n",
       "      <td>180.2</td>\n",
       "      <td>519.3</td>\n",
       "    </tr>\n",
       "    <tr>\n",
       "      <th>12</th>\n",
       "      <td>12</td>\n",
       "      <td>Captain America: Civil War</td>\n",
       "      <td>Anthony Russo</td>\n",
       "      <td>Joe Russo</td>\n",
       "      <td>2016-05-06 00:00:00</td>\n",
       "      <td>7.8</td>\n",
       "      <td>75</td>\n",
       "      <td>90</td>\n",
       "      <td>89</td>\n",
       "      <td>3.6</td>\n",
       "      <td>A</td>\n",
       "      <td>250.0</td>\n",
       "      <td>408.1</td>\n",
       "      <td>1155.0</td>\n",
       "    </tr>\n",
       "    <tr>\n",
       "      <th>13</th>\n",
       "      <td>13</td>\n",
       "      <td>Doctor Strange</td>\n",
       "      <td>Scott Derrickson</td>\n",
       "      <td>NaN</td>\n",
       "      <td>2016-08-04 00:00:00</td>\n",
       "      <td>7.5</td>\n",
       "      <td>72</td>\n",
       "      <td>89</td>\n",
       "      <td>86</td>\n",
       "      <td>3.4</td>\n",
       "      <td>A</td>\n",
       "      <td>236.0</td>\n",
       "      <td>232.6</td>\n",
       "      <td>677.8</td>\n",
       "    </tr>\n",
       "    <tr>\n",
       "      <th>14</th>\n",
       "      <td>14</td>\n",
       "      <td>Guardians of the Galaxy Vol. 2</td>\n",
       "      <td>James Gunn</td>\n",
       "      <td>NaN</td>\n",
       "      <td>2017-05-05 00:00:00</td>\n",
       "      <td>7.6</td>\n",
       "      <td>67</td>\n",
       "      <td>85</td>\n",
       "      <td>87</td>\n",
       "      <td>3.5</td>\n",
       "      <td>A</td>\n",
       "      <td>200.0</td>\n",
       "      <td>389.8</td>\n",
       "      <td>869.0</td>\n",
       "    </tr>\n",
       "    <tr>\n",
       "      <th>15</th>\n",
       "      <td>15</td>\n",
       "      <td>Spider-Man: Homecoming</td>\n",
       "      <td>Jon Watts</td>\n",
       "      <td>NaN</td>\n",
       "      <td>2017-07-07 00:00:00</td>\n",
       "      <td>7.4</td>\n",
       "      <td>73</td>\n",
       "      <td>92</td>\n",
       "      <td>87</td>\n",
       "      <td>3.5</td>\n",
       "      <td>A</td>\n",
       "      <td>175.0</td>\n",
       "      <td>334.2</td>\n",
       "      <td>880.9</td>\n",
       "    </tr>\n",
       "    <tr>\n",
       "      <th>16</th>\n",
       "      <td>16</td>\n",
       "      <td>Thor: Ragnarok</td>\n",
       "      <td>Taika Waititi</td>\n",
       "      <td>NaN</td>\n",
       "      <td>2017-11-03 00:00:00</td>\n",
       "      <td>7.9</td>\n",
       "      <td>74</td>\n",
       "      <td>93</td>\n",
       "      <td>87</td>\n",
       "      <td>3.7</td>\n",
       "      <td>A</td>\n",
       "      <td>180.0</td>\n",
       "      <td>316.0</td>\n",
       "      <td>865.0</td>\n",
       "    </tr>\n",
       "    <tr>\n",
       "      <th>17</th>\n",
       "      <td>17</td>\n",
       "      <td>Black Panther</td>\n",
       "      <td>Ryan Coogler</td>\n",
       "      <td>NaN</td>\n",
       "      <td>2018-02-16 00:00:00</td>\n",
       "      <td>7.3</td>\n",
       "      <td>88</td>\n",
       "      <td>96</td>\n",
       "      <td>79</td>\n",
       "      <td>3.7</td>\n",
       "      <td>A+</td>\n",
       "      <td>200.0</td>\n",
       "      <td>700.4</td>\n",
       "      <td>1350.0</td>\n",
       "    </tr>\n",
       "    <tr>\n",
       "      <th>18</th>\n",
       "      <td>18</td>\n",
       "      <td>Avengers: Infinity War</td>\n",
       "      <td>Anthony Russo</td>\n",
       "      <td>Joe Russo</td>\n",
       "      <td>2018-04-27 00:00:00</td>\n",
       "      <td>8.4</td>\n",
       "      <td>68</td>\n",
       "      <td>85</td>\n",
       "      <td>92</td>\n",
       "      <td>4.0</td>\n",
       "      <td>A</td>\n",
       "      <td>400.0</td>\n",
       "      <td>678.8</td>\n",
       "      <td>2052.0</td>\n",
       "    </tr>\n",
       "    <tr>\n",
       "      <th>19</th>\n",
       "      <td>19</td>\n",
       "      <td>Ant-Man and the Wasp</td>\n",
       "      <td>Peyton Reed</td>\n",
       "      <td>NaN</td>\n",
       "      <td>2018-07-06 00:00:00</td>\n",
       "      <td>7.0</td>\n",
       "      <td>70</td>\n",
       "      <td>87</td>\n",
       "      <td>79</td>\n",
       "      <td>2.9</td>\n",
       "      <td>A-</td>\n",
       "      <td>195.0</td>\n",
       "      <td>216.6</td>\n",
       "      <td>622.7</td>\n",
       "    </tr>\n",
       "    <tr>\n",
       "      <th>20</th>\n",
       "      <td>20</td>\n",
       "      <td>Captain Marvel</td>\n",
       "      <td>Anna Boden</td>\n",
       "      <td>Ryan Fleck</td>\n",
       "      <td>2019-03-08 00:00:00</td>\n",
       "      <td>6.8</td>\n",
       "      <td>64</td>\n",
       "      <td>79</td>\n",
       "      <td>45</td>\n",
       "      <td>2.7</td>\n",
       "      <td>A</td>\n",
       "      <td>175.0</td>\n",
       "      <td>426.8</td>\n",
       "      <td>1131.0</td>\n",
       "    </tr>\n",
       "    <tr>\n",
       "      <th>21</th>\n",
       "      <td>21</td>\n",
       "      <td>Avengers: Endgame</td>\n",
       "      <td>Anthony Russo</td>\n",
       "      <td>Joe Russo</td>\n",
       "      <td>2019-04-26 00:00:00</td>\n",
       "      <td>8.4</td>\n",
       "      <td>78</td>\n",
       "      <td>94</td>\n",
       "      <td>90</td>\n",
       "      <td>3.9</td>\n",
       "      <td>A+</td>\n",
       "      <td>400.0</td>\n",
       "      <td>858.4</td>\n",
       "      <td>2799.0</td>\n",
       "    </tr>\n",
       "    <tr>\n",
       "      <th>22</th>\n",
       "      <td>22</td>\n",
       "      <td>Spider-Man: Far From Home</td>\n",
       "      <td>Jon Watts</td>\n",
       "      <td>NaN</td>\n",
       "      <td>2019-07-02 00:00:00</td>\n",
       "      <td>7.4</td>\n",
       "      <td>69</td>\n",
       "      <td>91</td>\n",
       "      <td>95</td>\n",
       "      <td>3.4</td>\n",
       "      <td>A</td>\n",
       "      <td>160.0</td>\n",
       "      <td>391.3</td>\n",
       "      <td>1133.0</td>\n",
       "    </tr>\n",
       "    <tr>\n",
       "      <th>23</th>\n",
       "      <td>23</td>\n",
       "      <td>Black Widow</td>\n",
       "      <td>Cate Shortland</td>\n",
       "      <td>NaN</td>\n",
       "      <td>2021-07-09 00:00:00</td>\n",
       "      <td>6.6</td>\n",
       "      <td>68</td>\n",
       "      <td>79</td>\n",
       "      <td>91</td>\n",
       "      <td>2.9</td>\n",
       "      <td>A-</td>\n",
       "      <td>288.0</td>\n",
       "      <td>183.7</td>\n",
       "      <td>379.8</td>\n",
       "    </tr>\n",
       "    <tr>\n",
       "      <th>24</th>\n",
       "      <td>24</td>\n",
       "      <td>Shang-Chi and the Legend of the Ten Rings</td>\n",
       "      <td>Destin Daniel Cretton</td>\n",
       "      <td>NaN</td>\n",
       "      <td>2021-07-03 00:00:00</td>\n",
       "      <td>7.4</td>\n",
       "      <td>71</td>\n",
       "      <td>92</td>\n",
       "      <td>98</td>\n",
       "      <td>3.4</td>\n",
       "      <td>A</td>\n",
       "      <td>200.0</td>\n",
       "      <td>224.5</td>\n",
       "      <td>432.2</td>\n",
       "    </tr>\n",
       "  </tbody>\n",
       "</table>\n",
       "</div>"
      ],
      "text/plain": [
       "    Index                                      Title           Director (1)  \\\n",
       "0       0                                   Iron Man            Jon Favreau   \n",
       "1       1                        The Incredible Hulk        Louis Leterrier   \n",
       "2       2                                 Iron Man 2            Jon Favreau   \n",
       "3       3                                       Thor        Kenneth Branagh   \n",
       "4       4         Captain America: The First Avenger           Joe Johnston   \n",
       "5       5                               The Avengers            Joss Whedon   \n",
       "6       6                                 Iron Man 3            Shane Black   \n",
       "7       7                       Thor: The Dark World            Alan Taylor   \n",
       "8       8        Captain America: The Winter Soldier          Anthony Russo   \n",
       "9       9                    Guardians of the Galaxy             James Gunn   \n",
       "10     10                    Avengers: Age of Ultron            Joss Whedon   \n",
       "11     11                                    Ant-Man            Peyton Reed   \n",
       "12     12                 Captain America: Civil War          Anthony Russo   \n",
       "13     13                             Doctor Strange       Scott Derrickson   \n",
       "14     14             Guardians of the Galaxy Vol. 2             James Gunn   \n",
       "15     15                     Spider-Man: Homecoming              Jon Watts   \n",
       "16     16                             Thor: Ragnarok          Taika Waititi   \n",
       "17     17                              Black Panther           Ryan Coogler   \n",
       "18     18                     Avengers: Infinity War          Anthony Russo   \n",
       "19     19                       Ant-Man and the Wasp            Peyton Reed   \n",
       "20     20                             Captain Marvel             Anna Boden   \n",
       "21     21                          Avengers: Endgame          Anthony Russo   \n",
       "22     22                  Spider-Man: Far From Home              Jon Watts   \n",
       "23     23                                Black Widow         Cate Shortland   \n",
       "24     24  Shang-Chi and the Legend of the Ten Rings  Destin Daniel Cretton   \n",
       "\n",
       "   Director (2) Release Date (DD-MM-YYYY)  IMDb (scored out of 10)  \\\n",
       "0           NaN       2008-05-02 00:00:00                      7.9   \n",
       "1           NaN       2008-06-13 00:00:00                      6.6   \n",
       "2           NaN       2010-05-07 00:00:00                      6.9   \n",
       "3           NaN       2011-05-06 00:00:00                      7.0   \n",
       "4           NaN       2011-07-22 00:00:00                      6.9   \n",
       "5           NaN       2012-05-04 00:00:00                      8.0   \n",
       "6           NaN       2013-05-03 00:00:00                      7.1   \n",
       "7           NaN       2013-11-08 00:00:00                      6.7   \n",
       "8     Joe Russo       2014-04-04 00:00:00                      7.7   \n",
       "9           NaN       2014-08-01 00:00:00                      8.0   \n",
       "10          NaN       2015-05-01 00:00:00                      7.3   \n",
       "11          NaN       2015-07-17 00:00:00                      7.2   \n",
       "12    Joe Russo       2016-05-06 00:00:00                      7.8   \n",
       "13          NaN       2016-08-04 00:00:00                      7.5   \n",
       "14          NaN       2017-05-05 00:00:00                      7.6   \n",
       "15          NaN       2017-07-07 00:00:00                      7.4   \n",
       "16          NaN       2017-11-03 00:00:00                      7.9   \n",
       "17          NaN       2018-02-16 00:00:00                      7.3   \n",
       "18    Joe Russo       2018-04-27 00:00:00                      8.4   \n",
       "19          NaN       2018-07-06 00:00:00                      7.0   \n",
       "20   Ryan Fleck       2019-03-08 00:00:00                      6.8   \n",
       "21    Joe Russo       2019-04-26 00:00:00                      8.4   \n",
       "22          NaN       2019-07-02 00:00:00                      7.4   \n",
       "23          NaN       2021-07-09 00:00:00                      6.6   \n",
       "24          NaN       2021-07-03 00:00:00                      7.4   \n",
       "\n",
       "    IMDB Metascore (scored out of 100)  \\\n",
       "0                                   79   \n",
       "1                                   61   \n",
       "2                                   57   \n",
       "3                                   57   \n",
       "4                                   66   \n",
       "5                                   69   \n",
       "6                                   62   \n",
       "7                                   54   \n",
       "8                                   70   \n",
       "9                                   76   \n",
       "10                                  66   \n",
       "11                                  64   \n",
       "12                                  75   \n",
       "13                                  72   \n",
       "14                                  67   \n",
       "15                                  73   \n",
       "16                                  74   \n",
       "17                                  88   \n",
       "18                                  68   \n",
       "19                                  70   \n",
       "20                                  64   \n",
       "21                                  78   \n",
       "22                                  69   \n",
       "23                                  68   \n",
       "24                                  71   \n",
       "\n",
       "    Rotten Tomatoes - Critics (scored out of 100%)  \\\n",
       "0                                               94   \n",
       "1                                               68   \n",
       "2                                               72   \n",
       "3                                               77   \n",
       "4                                               80   \n",
       "5                                               91   \n",
       "6                                               79   \n",
       "7                                               67   \n",
       "8                                               90   \n",
       "9                                               92   \n",
       "10                                              76   \n",
       "11                                              83   \n",
       "12                                              90   \n",
       "13                                              89   \n",
       "14                                              85   \n",
       "15                                              92   \n",
       "16                                              93   \n",
       "17                                              96   \n",
       "18                                              85   \n",
       "19                                              87   \n",
       "20                                              79   \n",
       "21                                              94   \n",
       "22                                              91   \n",
       "23                                              79   \n",
       "24                                              92   \n",
       "\n",
       "    Rotten Tomatoes - Audience (scored out of 100%)  \\\n",
       "0                                                91   \n",
       "1                                                69   \n",
       "2                                                71   \n",
       "3                                                76   \n",
       "4                                                75   \n",
       "5                                                91   \n",
       "6                                                78   \n",
       "7                                                75   \n",
       "8                                                92   \n",
       "9                                                92   \n",
       "10                                               82   \n",
       "11                                               85   \n",
       "12                                               89   \n",
       "13                                               86   \n",
       "14                                               87   \n",
       "15                                               87   \n",
       "16                                               87   \n",
       "17                                               79   \n",
       "18                                               92   \n",
       "19                                               79   \n",
       "20                                               45   \n",
       "21                                               90   \n",
       "22                                               95   \n",
       "23                                               91   \n",
       "24                                               98   \n",
       "\n",
       "    Letterboxd (scored out of 5) CinemaScore (grades A+ to F)  \\\n",
       "0                            3.7                            A   \n",
       "1                            2.5                           A-   \n",
       "2                            2.9                            A   \n",
       "3                            2.8                           B+   \n",
       "4                            3.3                           A-   \n",
       "5                            3.7                           A+   \n",
       "6                            3.0                            A   \n",
       "7                            2.2                           A-   \n",
       "8                            3.7                            A   \n",
       "9                            3.8                            A   \n",
       "10                           3.1                            A   \n",
       "11                           3.2                            A   \n",
       "12                           3.6                            A   \n",
       "13                           3.4                            A   \n",
       "14                           3.5                            A   \n",
       "15                           3.5                            A   \n",
       "16                           3.7                            A   \n",
       "17                           3.7                           A+   \n",
       "18                           4.0                            A   \n",
       "19                           2.9                           A-   \n",
       "20                           2.7                            A   \n",
       "21                           3.9                           A+   \n",
       "22                           3.4                            A   \n",
       "23                           2.9                           A-   \n",
       "24                           3.4                            A   \n",
       "\n",
       "    Budget (in million $)  Domestic Gross (in million $)  \\\n",
       "0                   140.0                          319.0   \n",
       "1                   150.0                          134.8   \n",
       "2                   200.0                          312.4   \n",
       "3                   150.0                          181.0   \n",
       "4                   215.0                          176.7   \n",
       "5                   225.0                          623.4   \n",
       "6                   200.0                          409.0   \n",
       "7                   272.0                          206.4   \n",
       "8                   177.0                          259.8   \n",
       "9                   196.0                          333.7   \n",
       "10                  365.0                          459.0   \n",
       "11                  169.0                          180.2   \n",
       "12                  250.0                          408.1   \n",
       "13                  236.0                          232.6   \n",
       "14                  200.0                          389.8   \n",
       "15                  175.0                          334.2   \n",
       "16                  180.0                          316.0   \n",
       "17                  200.0                          700.4   \n",
       "18                  400.0                          678.8   \n",
       "19                  195.0                          216.6   \n",
       "20                  175.0                          426.8   \n",
       "21                  400.0                          858.4   \n",
       "22                  160.0                          391.3   \n",
       "23                  288.0                          183.7   \n",
       "24                  200.0                          224.5   \n",
       "\n",
       "    Worldwide Gross (in million $)  \n",
       "0                            585.8  \n",
       "1                            265.5  \n",
       "2                            623.9  \n",
       "3                            449.3  \n",
       "4                            370.6  \n",
       "5                           1521.0  \n",
       "6                           1215.0  \n",
       "7                            644.8  \n",
       "8                            714.4  \n",
       "9                            773.4  \n",
       "10                          1405.0  \n",
       "11                           519.3  \n",
       "12                          1155.0  \n",
       "13                           677.8  \n",
       "14                           869.0  \n",
       "15                           880.9  \n",
       "16                           865.0  \n",
       "17                          1350.0  \n",
       "18                          2052.0  \n",
       "19                           622.7  \n",
       "20                          1131.0  \n",
       "21                          2799.0  \n",
       "22                          1133.0  \n",
       "23                           379.8  \n",
       "24                           432.2  "
      ]
     },
     "execution_count": 15,
     "metadata": {},
     "output_type": "execute_result"
    }
   ],
   "source": [
    "filmes_marvel = pd.read_csv('../../../Downloads/Marvel_Movies_Dataset.csv')\n",
    "filmes_marvel.head(25)"
   ]
  },
  {
   "cell_type": "markdown",
   "metadata": {},
   "source": [
    "Qual filme teve o maior orçamento?"
   ]
  },
  {
   "cell_type": "code",
   "execution_count": 16,
   "metadata": {},
   "outputs": [
    {
     "name": "stdout",
     "output_type": "stream",
     "text": [
      "Index                                                                  18\n",
      "Title                                              Avengers: Infinity War\n",
      "Director (1)                                                Anthony Russo\n",
      "Director (2)                                                    Joe Russo\n",
      "Release Date (DD-MM-YYYY)                             2018-04-27 00:00:00\n",
      "IMDb (scored out of 10)                                               8.4\n",
      "IMDB Metascore (scored out of 100)                                     68\n",
      "Rotten Tomatoes - Critics (scored out of 100%)                         85\n",
      "Rotten Tomatoes - Audience (scored out of 100%)                        92\n",
      "Letterboxd (scored out of 5)                                          4.0\n",
      "CinemaScore (grades A+ to F)                                            A\n",
      "Budget (in million $)                                               400.0\n",
      "Domestic Gross (in million $)                                       678.8\n",
      "Worldwide Gross (in million $)                                     2052.0\n",
      "Name: 18, dtype: object\n"
     ]
    }
   ],
   "source": [
    "filme_maior_orcamento = filmes_marvel.loc[filmes_marvel['Budget (in million $)'].idxmax()]\n",
    "print(filme_maior_orcamento)"
   ]
  },
  {
   "cell_type": "markdown",
   "metadata": {},
   "source": [
    "Qual é a média dos valores de IMDb para todos os filmes?"
   ]
  },
  {
   "cell_type": "code",
   "execution_count": 17,
   "metadata": {},
   "outputs": [
    {
     "name": "stdout",
     "output_type": "stream",
     "text": [
      "7.2441176470588236\n"
     ]
    }
   ],
   "source": [
    "media_IMDB = filmes_marvel['IMDb (scored out of 10)'].mean()\n",
    "print(media_IMDB)"
   ]
  },
  {
   "cell_type": "markdown",
   "metadata": {},
   "source": [
    "Quantos filmes possuem uma pontuação de Rotten Tomatoes - Critics maior que 80%?"
   ]
  },
  {
   "cell_type": "code",
   "execution_count": 18,
   "metadata": {},
   "outputs": [
    {
     "name": "stdout",
     "output_type": "stream",
     "text": [
      "Número de filmes com pontuação de Rotten Tomatoes - Critics maior que 80%: 19\n"
     ]
    }
   ],
   "source": [
    "filmes_rotten_maior_80 = filmes_marvel[filmes_marvel['Rotten Tomatoes - Critics (scored out of 100%)'] > 80]\n",
    "\n",
    "quantidade = filmes_rotten_maior_80.shape[0]\n",
    "\n",
    "print(f\"Número de filmes com pontuação de Rotten Tomatoes - Critics maior que 80%: {quantidade}\")\n"
   ]
  },
  {
   "cell_type": "markdown",
   "metadata": {},
   "source": [
    "Quais diretores (diretor principal ou secundário) dirigiram mais de um filme no dataset?"
   ]
  },
  {
   "cell_type": "code",
   "execution_count": 19,
   "metadata": {},
   "outputs": [
    {
     "name": "stdout",
     "output_type": "stream",
     "text": [
      "Diretores que dirigiram mais de um filme no dataset\n",
      "Directors\n",
      "Anthony Russo    4\n",
      "Joe Russo        4\n",
      "Name: count, dtype: int64\n"
     ]
    }
   ],
   "source": [
    "filmes_marvel['Directors'] = filmes_marvel['Director (1)'] + ',' + filmes_marvel['Director (2)']\n",
    "\n",
    "diretores = filmes_marvel['Directors'].str.split(',').explode()\n",
    "\n",
    "diretores_count = diretores.value_counts()\n",
    "\n",
    "diretores_multiplos = diretores_count[diretores_count > 1]\n",
    "\n",
    "print(\"Diretores que dirigiram mais de um filme no dataset\")\n",
    "print(diretores_multiplos)\n"
   ]
  },
  {
   "cell_type": "markdown",
   "metadata": {},
   "source": [
    "Qual é a correlação entre o orçamento e o lucro bruto doméstico?"
   ]
  },
  {
   "cell_type": "code",
   "execution_count": 20,
   "metadata": {},
   "outputs": [
    {
     "name": "stdout",
     "output_type": "stream",
     "text": [
      "0.3572802968186996\n"
     ]
    }
   ],
   "source": [
    "correlacao = filmes_marvel['Budget (in million $)'].corr(filmes_marvel['Domestic Gross (in million $)'])\n",
    "\n",
    "print(correlacao)"
   ]
  },
  {
   "cell_type": "markdown",
   "metadata": {},
   "source": [
    "Quais filmes obtiveram um CinemaScore \"A+\"?"
   ]
  },
  {
   "cell_type": "code",
   "execution_count": 21,
   "metadata": {},
   "outputs": [
    {
     "name": "stdout",
     "output_type": "stream",
     "text": [
      "                  Title  Director (1) Director (2) Release Date (DD-MM-YYYY)  IMDb (scored out of 10)  Rotten Tomatoes - Critics (scored out of 100%)\n",
      "           The Avengers   Joss Whedon          NaN       2012-05-04 00:00:00                      8.0                                              91\n",
      "          Black Panther  Ryan Coogler          NaN       2018-02-16 00:00:00                      7.3                                              96\n",
      "      Avengers: Endgame Anthony Russo    Joe Russo       2019-04-26 00:00:00                      8.4                                              94\n",
      "Spider-Man: No Way Home     Jon Watts          NaN       2021-12-17 00:00:00                      8.2                                              93\n"
     ]
    }
   ],
   "source": [
    "colunas_relevantes = ['Title', 'Director (1)', 'Director (2)', 'Release Date (DD-MM-YYYY)', 'IMDb (scored out of 10)', 'Rotten Tomatoes - Critics (scored out of 100%)']\n",
    "\n",
    "filmes_cinemascore_A = filmes_marvel[filmes_marvel['CinemaScore (grades A+ to F)'] == 'A+']\n",
    "\n",
    "filmes_cinemascore_A_formatado = filmes_cinemascore_A[colunas_relevantes]\n",
    "\n",
    "print(filmes_cinemascore_A_formatado.to_string(index=False))"
   ]
  },
  {
   "cell_type": "markdown",
   "metadata": {},
   "source": [
    "Qual foi o filme com a maior pontuação no Letterboxd?"
   ]
  },
  {
   "cell_type": "code",
   "execution_count": 22,
   "metadata": {},
   "outputs": [
    {
     "name": "stdout",
     "output_type": "stream",
     "text": [
      "Index                                                                   18\n",
      "Title                                               Avengers: Infinity War\n",
      "Director (1)                                                 Anthony Russo\n",
      "Director (2)                                                     Joe Russo\n",
      "Release Date (DD-MM-YYYY)                              2018-04-27 00:00:00\n",
      "IMDb (scored out of 10)                                                8.4\n",
      "IMDB Metascore (scored out of 100)                                      68\n",
      "Rotten Tomatoes - Critics (scored out of 100%)                          85\n",
      "Rotten Tomatoes - Audience (scored out of 100%)                         92\n",
      "Letterboxd (scored out of 5)                                           4.0\n",
      "CinemaScore (grades A+ to F)                                             A\n",
      "Budget (in million $)                                                400.0\n",
      "Domestic Gross (in million $)                                        678.8\n",
      "Worldwide Gross (in million $)                                      2052.0\n",
      "Directors                                          Anthony Russo,Joe Russo\n",
      "Name: 18, dtype: object\n"
     ]
    }
   ],
   "source": [
    "indice_max_letterboxd = filmes_marvel['Letterboxd (scored out of 5)'].idxmax()\n",
    "\n",
    "filme_max_letterboxd = filmes_marvel.loc[indice_max_letterboxd]\n",
    "\n",
    "print(filme_max_letterboxd)"
   ]
  },
  {
   "cell_type": "markdown",
   "metadata": {},
   "source": [
    "Quantos filmes têm um lucro bruto mundial superior a 500 milhões de dólares?"
   ]
  },
  {
   "cell_type": "code",
   "execution_count": 23,
   "metadata": {},
   "outputs": [
    {
     "name": "stdout",
     "output_type": "stream",
     "text": [
      "26\n"
     ]
    }
   ],
   "source": [
    "filmes_lucro_superior = filmes_marvel[filmes_marvel['Worldwide Gross (in million $)'] > 500]\n",
    "\n",
    "qtd_filmes = len(filmes_lucro_superior)\n",
    "\n",
    "print(qtd_filmes)"
   ]
  },
  {
   "cell_type": "markdown",
   "metadata": {},
   "source": [
    "Qual foi o filme mais bem avaliado em Rotten Tomatoes - Critics e Rotten Tomatoes - Audience juntos?"
   ]
  },
  {
   "cell_type": "code",
   "execution_count": 24,
   "metadata": {},
   "outputs": [
    {
     "name": "stdout",
     "output_type": "stream",
     "text": [
      "Index                                                                   26\n",
      "Title                                              Spider-Man: No Way Home\n",
      "Director (1)                                                     Jon Watts\n",
      "Director (2)                                                           NaN\n",
      "Release Date (DD-MM-YYYY)                              2021-12-17 00:00:00\n",
      "IMDb (scored out of 10)                                                8.2\n",
      "IMDB Metascore (scored out of 100)                                      71\n",
      "Rotten Tomatoes - Critics (scored out of 100%)                          93\n",
      "Rotten Tomatoes - Audience (scored out of 100%)                         98\n",
      "Letterboxd (scored out of 5)                                           3.8\n",
      "CinemaScore (grades A+ to F)                                            A+\n",
      "Budget (in million $)                                                200.0\n",
      "Domestic Gross (in million $)                                        814.9\n",
      "Worldwide Gross (in million $)                                      1952.0\n",
      "Directors                                                              NaN\n",
      "Total_Rotten_Tomatoes                                                  191\n",
      "Name: 26, dtype: object\n"
     ]
    }
   ],
   "source": [
    "filmes_marvel['Total_Rotten_Tomatoes'] = filmes_marvel['Rotten Tomatoes - Critics (scored out of 100%)'] + filmes_marvel['Rotten Tomatoes - Audience (scored out of 100%)']\n",
    "\n",
    "indice_max_avaliacao = filmes_marvel['Total_Rotten_Tomatoes'].idxmax()\n",
    "\n",
    "filme_max_avaliacao = filmes_marvel.loc[indice_max_avaliacao]\n",
    "\n",
    "print(filme_max_avaliacao)"
   ]
  },
  {
   "cell_type": "markdown",
   "metadata": {},
   "source": [
    "Qual é a distribuição dos orçamentos dos filmes (mínimo, máximo, quartis)?"
   ]
  },
  {
   "cell_type": "code",
   "execution_count": 25,
   "metadata": {},
   "outputs": [
    {
     "name": "stdout",
     "output_type": "stream",
     "text": [
      "count     34.000000\n",
      "mean     229.523529\n",
      "std       69.004243\n",
      "min      140.000000\n",
      "25%      183.750000\n",
      "50%      200.000000\n",
      "75%      250.000000\n",
      "max      400.000000\n",
      "Name: Budget (in million $), dtype: float64\n"
     ]
    }
   ],
   "source": [
    "estatistica_orcamento = filmes_marvel['Budget (in million $)'].describe()\n",
    "print(estatistica_orcamento)"
   ]
  },
  {
   "cell_type": "markdown",
   "metadata": {},
   "source": [
    "Quais são os 5 filmes mais antigos no dataset?"
   ]
  },
  {
   "cell_type": "code",
   "execution_count": 26,
   "metadata": {},
   "outputs": [
    {
     "name": "stdout",
     "output_type": "stream",
     "text": [
      "                                Title Release Date (DD-MM-YYYY)\n",
      "0                            Iron Man                2008-05-02\n",
      "1                 The Incredible Hulk                2008-06-13\n",
      "2                          Iron Man 2                2010-05-07\n",
      "3                                Thor                2011-05-06\n",
      "4  Captain America: The First Avenger                2011-07-22\n"
     ]
    }
   ],
   "source": [
    "filmes_marvel['Release Date (DD-MM-YYYY)'] = pd.to_datetime(filmes_marvel['Release Date (DD-MM-YYYY)'], errors='coerce')\n",
    "\n",
    "filmes_mais_antigos = filmes_marvel.sort_values(by='Release Date (DD-MM-YYYY)').head(5)\n",
    "\n",
    "print(filmes_mais_antigos[['Title', 'Release Date (DD-MM-YYYY)']])"
   ]
  },
  {
   "cell_type": "markdown",
   "metadata": {},
   "source": [
    "Qual é a relação entre o IMDb Metascore e o Rotten Tomatoes - Critics?"
   ]
  },
  {
   "cell_type": "code",
   "execution_count": 27,
   "metadata": {},
   "outputs": [
    {
     "name": "stdout",
     "output_type": "stream",
     "text": [
      "                                                IMDB Metascore (scored out of 100)  \\\n",
      "IMDB Metascore (scored out of 100)                                        1.000000   \n",
      "Rotten Tomatoes - Critics (scored out of 100%)                            0.890527   \n",
      "\n",
      "                                                Rotten Tomatoes - Critics (scored out of 100%)  \n",
      "IMDB Metascore (scored out of 100)                                                    0.890527  \n",
      "Rotten Tomatoes - Critics (scored out of 100%)                                        1.000000  \n"
     ]
    }
   ],
   "source": [
    "correlacao_imbd_rotten = filmes_marvel[['IMDB Metascore (scored out of 100)', 'Rotten Tomatoes - Critics (scored out of 100%)']].corr()\n",
    "\n",
    "print(correlacao_imbd_rotten)"
   ]
  },
  {
   "cell_type": "markdown",
   "metadata": {},
   "source": [
    "Quais filmes tiveram mais sucesso mundial (Worldwide Gross) em relação ao seu orçamento?"
   ]
  },
  {
   "cell_type": "code",
   "execution_count": 28,
   "metadata": {},
   "outputs": [
    {
     "name": "stdout",
     "output_type": "stream",
     "text": [
      "                        Title  Budget (in million $)  \\\n",
      "26    Spider-Man: No Way Home                  200.0   \n",
      "22  Spider-Man: Far From Home                  160.0   \n",
      "21          Avengers: Endgame                  400.0   \n",
      "5                The Avengers                  225.0   \n",
      "17              Black Panther                  200.0   \n",
      "33       Deadpool & Wolverine                  200.0   \n",
      "20             Captain Marvel                  175.0   \n",
      "6                  Iron Man 3                  200.0   \n",
      "18     Avengers: Infinity War                  400.0   \n",
      "15     Spider-Man: Homecoming                  175.0   \n",
      "\n",
      "    Worldwide Gross (in million $)  Worldwide Gross/Budget  \n",
      "26                          1952.0                9.760000  \n",
      "22                          1133.0                7.081250  \n",
      "21                          2799.0                6.997500  \n",
      "5                           1521.0                6.760000  \n",
      "17                          1350.0                6.750000  \n",
      "33                          1338.0                6.690000  \n",
      "20                          1131.0                6.462857  \n",
      "6                           1215.0                6.075000  \n",
      "18                          2052.0                5.130000  \n",
      "15                           880.9                5.033714  \n"
     ]
    }
   ],
   "source": [
    "filmes_marvel['Worldwide Gross/Budget'] = filmes_marvel['Worldwide Gross (in million $)'] / filmes_marvel['Budget (in million $)']\n",
    "\n",
    "filmes_mais_sucesso = filmes_marvel.sort_values(by='Worldwide Gross/Budget', ascending=False).head(10)\n",
    "\n",
    "print(filmes_mais_sucesso[['Title', 'Budget (in million $)', 'Worldwide Gross (in million $)', 'Worldwide Gross/Budget']])\n"
   ]
  },
  {
   "cell_type": "markdown",
   "metadata": {},
   "source": [
    "Qual foi a média de Rotten Tomatoes - Audience para os filmes lançados antes de 2010?\n"
   ]
  },
  {
   "cell_type": "code",
   "execution_count": 31,
   "metadata": {},
   "outputs": [
    {
     "name": "stdout",
     "output_type": "stream",
     "text": [
      "80.0\n"
     ]
    }
   ],
   "source": [
    "filmes_marvel['Release Date (DD-MM-YYYY)'] = pd.to_datetime(filmes_marvel['Release Date (DD-MM-YYYY)'], errors='coerce')\n",
    "\n",
    "filmes_antes_2010 = filmes_marvel[filmes_marvel['Release Date (DD-MM-YYYY)'].dt.year < 2010]\n",
    "\n",
    "media_rotten = filmes_antes_2010['Rotten Tomatoes - Audience (scored out of 100%)'].mean()\n",
    "\n",
    "print(media_rotten)"
   ]
  },
  {
   "cell_type": "markdown",
   "metadata": {},
   "source": [
    "Quantos filmes no dataset possuem dois diretores listados?"
   ]
  },
  {
   "cell_type": "code",
   "execution_count": 32,
   "metadata": {},
   "outputs": [
    {
     "name": "stdout",
     "output_type": "stream",
     "text": [
      "5\n"
     ]
    }
   ],
   "source": [
    "filmes_dois_diretores = filmes_marvel[filmes_marvel['Director (2)'].notna()]\n",
    "\n",
    "qtd_filmes_dois_diretores = filmes_dois_diretores.shape[0]\n",
    "\n",
    "print(qtd_filmes_dois_diretores)"
   ]
  },
  {
   "cell_type": "code",
   "execution_count": null,
   "metadata": {},
   "outputs": [],
   "source": []
  }
 ],
 "metadata": {
  "kernelspec": {
   "display_name": ".venv",
   "language": "python",
   "name": "python3"
  },
  "language_info": {
   "codemirror_mode": {
    "name": "ipython",
    "version": 3
   },
   "file_extension": ".py",
   "mimetype": "text/x-python",
   "name": "python",
   "nbconvert_exporter": "python",
   "pygments_lexer": "ipython3",
   "version": "3.12.3"
  }
 },
 "nbformat": 4,
 "nbformat_minor": 2
}
